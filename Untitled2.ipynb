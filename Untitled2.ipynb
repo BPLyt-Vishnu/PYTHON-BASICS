{
  "nbformat": 4,
  "nbformat_minor": 0,
  "metadata": {
    "colab": {
      "provenance": []
    },
    "kernelspec": {
      "name": "python3",
      "display_name": "Python 3"
    },
    "language_info": {
      "name": "python"
    }
  },
  "cells": [
    {
      "cell_type": "code",
      "execution_count": null,
      "metadata": {
        "id": "eOIdjltZwTz2"
      },
      "outputs": [],
      "source": [
        "# THEORY QUESTIONS"
      ]
    },
    {
      "cell_type": "markdown",
      "source": [
        "1.  What is Python, and why is it popular?\n",
        "\n",
        " ***ANS***     Python is like a language that tells your computer what to do. It's known for being easy to read and understand, kind of like regular English.\n",
        "    *   It's popular because it's beginner-friendly, super versatile (you can build websites, games, analyze data... lots!), and there's a huge community ready to help when you get stuck.\n",
        "  "
      ],
      "metadata": {
        "id": "7JU1ocL1wiTp"
      }
    },
    {
      "cell_type": "markdown",
      "source": [
        "2.  What is an interpreter in Python?\n",
        "\n",
        "***ANS***    Imagine Python code as a recipe. The interpreter is like the chef who reads the recipe (your code) line by line and does what it says. Instead of translating everything at once, it translates and runs your code as it goes.\n"
      ],
      "metadata": {
        "id": "Y5tel7FJwisY"
      }
    },
    {
      "cell_type": "markdown",
      "source": [
        "3.  What are pre-defined keywords in Python?\n",
        "\n",
        "  ***ANS***   Keywords are like special, reserved words in Python that already have a meaning to the computer.  They are the building blocks of the Python language and can’t be used as variable names. For example `if`, `else`, `for`, `while`.\n"
      ],
      "metadata": {
        "id": "atVQi7ZQwjaA"
      }
    },
    {
      "cell_type": "markdown",
      "source": [
        "4.  Can keywords be used as variable names?\n",
        "\n",
        " ***ANS***  Nope!  That’s a big no-no. It’s like trying to use the word \"apple\" to mean something else besides an apple. Your computer would get very confused."
      ],
      "metadata": {
        "id": "79Ed_zRkwjem"
      }
    },
    {
      "cell_type": "markdown",
      "source": [
        "5.  What is mutability in Python?\n",
        "\n",
        "  ***ANS***    Mutability just means if something can be changed after you create it. Some things can be changed after they're made, others can’t"
      ],
      "metadata": {
        "id": "2bN8rtfxwjhj"
      }
    },
    {
      "cell_type": "markdown",
      "source": [
        "6.  Why are lists mutable, but tuples are immutable?\n",
        "\n",
        "***ANS***     Lists are like flexible containers. You can add or remove items from them, reorder them after you created them. They are mutable because you can change them after you create them.\n",
        "\n",
        "\n",
        "\n",
        " Tuples are more like \"fixed\" containers. Once you create a tuple, you can’t change it at all. They are immutable, kind of like a sealed package."
      ],
      "metadata": {
        "id": "sP6X339vwjj-"
      }
    },
    {
      "cell_type": "markdown",
      "source": [
        "7.  What is the difference between `==` and `is` operators in Python?\n",
        "\n",
        "***ANS***   *   `==` is like asking if two things have the same value.  Think of it like if two apples are the same, even if they are in different boxes.\n",
        "    *   `is` is more like asking if two things are the exact same object in memory. It's like asking if the same box contains both apples."
      ],
      "metadata": {
        "id": "YyQMcSXgwjmm"
      }
    },
    {
      "cell_type": "markdown",
      "source": [
        "8.  What are logical operators in Python?\n",
        "\n",
        "***ANS***   Logical operators are like connectors that help you make decisions in your code. The main ones are: `and` (both sides must be true), `or` (at least one side must be true), and `not` (makes something true become false, and vice versa)."
      ],
      "metadata": {
        "id": "7EKpZESxwjpH"
      }
    },
    {
      "cell_type": "markdown",
      "source": [
        "9.  What is type casting in Python?\n",
        "\n",
        " ***ANS***    *   Type casting is like converting a variable from one type to another. For example, changing a number from a string \"5\" into an actual number 5 so you can do math on it.\n"
      ],
      "metadata": {
        "id": "Hh4trsNIwjrh"
      }
    },
    {
      "cell_type": "markdown",
      "source": [
        "10.  What is the difference between implicit and explicit type casting?\n",
        "\n",
        "***ANS***   \n",
        "             **Implicit:**  Python does it for you automatically. Sometimes when it makes sense, like converting an integer to a float in a math operation.\n",
        "    *   **Explicit:**  You tell Python to do the conversion directly, for instance using `int()`, `float()`, or `str()`.\n"
      ],
      "metadata": {
        "id": "YeYcfoT9wjt6"
      }
    },
    {
      "cell_type": "markdown",
      "source": [
        "11. What is the purpose of conditional statements in Python?\n",
        "\n",
        "***ANS***   *   Conditional statements are like decision makers. They allow your code to do different things based on whether certain conditions are true or false. For example, doing one thing if the user input is \"yes\", another if it's \"no\"."
      ],
      "metadata": {
        "id": "AinPAZFtwjwc"
      }
    },
    {
      "cell_type": "markdown",
      "source": [
        "12. How does the `elif` statement work?\n",
        "\n",
        "***ANS***    *   `elif` is like an \"else if\". After an `if` statement, you can have one or more `elif` statements. The computer will check each one in order, and if any condition is true, it will run the code within that block and stop checking the other eli"
      ],
      "metadata": {
        "id": "UWAb4OTWwjzF"
      }
    },
    {
      "cell_type": "markdown",
      "source": [
        "13. What is the difference between `for` and `while` loops?\n",
        "\n",
        "***ANS***    `for` loops are used when you know *how many times* you want to repeat something, like go through each item in a list.\n",
        "    *   `while` loops are used when you want to keep doing something as long as a *condition* is true. You're not necessarily counting how many times it repeats."
      ],
      "metadata": {
        "id": "YNqHuHUbwj1l"
      }
    },
    {
      "cell_type": "markdown",
      "source": [
        "14. Describe a scenario where a while loop is more suitable than a for loop.\n",
        "\n",
        "\n",
        "***ANS***       Imagine a game. A `while` loop would be great to keep the game running as long as the player hasn't lost or quit. We don't know beforehand how many turns the player will take. A `for` loop would be less suitable because we don’t know how many times the loop needs to repeat."
      ],
      "metadata": {
        "id": "z02dJQHXwj4G"
      }
    },
    {
      "cell_type": "code",
      "source": [
        "# PRACTICLE QUESTIONS"
      ],
      "metadata": {
        "id": "UXXfLpw80dU0"
      },
      "execution_count": null,
      "outputs": []
    },
    {
      "cell_type": "markdown",
      "source": [
        "1. **Print hello world**"
      ],
      "metadata": {
        "id": "vSXHvDki1WTb"
      }
    },
    {
      "cell_type": "code",
      "source": [
        "python\n",
        "    print(\"Hello, World!\")"
      ],
      "metadata": {
        "id": "nxJbu73X1WlL"
      },
      "execution_count": null,
      "outputs": []
    },
    {
      "cell_type": "markdown",
      "source": [
        "2.  **Display name and age:**"
      ],
      "metadata": {
        "id": "TeVEiOQr1W4T"
      }
    },
    {
      "cell_type": "code",
      "source": [
        "python\n",
        "    name = \"Your Name\"  # Replace with your name\n",
        "    age = 18           # Replace with your age\n",
        "    print(\"My name is\", name, \"and I am\", age, \"years old.\")"
      ],
      "metadata": {
        "id": "RN5CvRnT1XG8"
      },
      "execution_count": null,
      "outputs": []
    },
    {
      "cell_type": "markdown",
      "source": [
        "3.  **Print all keywords using keyword library:**"
      ],
      "metadata": {
        "id": "UYn3jTZA1XRs"
      }
    },
    {
      "cell_type": "code",
      "source": [
        "python\n",
        "    import keyword\n",
        "    print(keyword.kwlist)"
      ],
      "metadata": {
        "id": "x72rxNJH1Xaz"
      },
      "execution_count": null,
      "outputs": []
    },
    {
      "cell_type": "markdown",
      "source": [
        "**Check if a word is a keyword:**"
      ],
      "metadata": {
        "id": "SZ4po15i1XjE"
      }
    },
    {
      "cell_type": "code",
      "source": [
        "python\n",
        "    import keyword\n",
        "\n",
        "    word = input(\"Enter a word: \")\n",
        "    if keyword.iskeyword(word):\n",
        "        print(word, \"is a keyword!\")\n",
        "    else:\n",
        "        print(word, \"is not a keyword.\")"
      ],
      "metadata": {
        "id": "8Jmrsd201XsN"
      },
      "execution_count": null,
      "outputs": []
    },
    {
      "cell_type": "markdown",
      "source": [
        "5.  **Create a list and tuple, show mutability difference:**"
      ],
      "metadata": {
        "id": "KSzwmH841X0z"
      }
    },
    {
      "cell_type": "code",
      "source": [
        "python\n",
        "    my_list = [1, 2, 3]\n",
        "    my_tuple = (4, 5, 6)\n",
        "\n",
        "    my_list[0] = 10   # Okay to change a list\n",
        "    print(\"Modified List:\",my_list)\n",
        "\n",
        "    try:\n",
        "      my_tuple[0] = 10  # Will cause an error with tuple because tuples are immutable\n",
        "    except:\n",
        "      print(\"Cannot modify a tuple\")"
      ],
      "metadata": {
        "id": "Gn3T5rEb1X-L"
      },
      "execution_count": null,
      "outputs": []
    },
    {
      "cell_type": "markdown",
      "source": [
        "6. and 7. **Demonstrate mutable/immutable arguments in function (same behavior)**"
      ],
      "metadata": {
        "id": "nH-WKvX01YHt"
      }
    },
    {
      "cell_type": "code",
      "source": [
        "python\n",
        "    def modify_list(my_list):\n",
        "        my_list[0] = 99\n",
        "\n",
        "    def modify_tuple(my_tuple):\n",
        "        try:\n",
        "            my_tuple = (99,my_tuple[1],my_tuple[2])\n",
        "            print(\"tuple changed within the function: \",my_tuple) # It changes the tuple reference, not the value\n",
        "        except TypeError:\n",
        "            print(\"Cannot modify tuple directly\")\n",
        "\n",
        "    list_test = [1,2,3]\n",
        "    tuple_test = (4,5,6)\n",
        "\n",
        "    modify_list(list_test)\n",
        "    print(\"List after function call:\", list_test)\n",
        "\n",
        "    modify_tuple(tuple_test)\n",
        "    print(\"Tuple after function call: \",tuple_test)"
      ],
      "metadata": {
        "id": "wsZ4LA-T1YPj"
      },
      "execution_count": null,
      "outputs": []
    },
    {
      "cell_type": "markdown",
      "source": [
        "8.  **Demonstrate logical operators:**"
      ],
      "metadata": {
        "id": "nFUgvtkZ1YW7"
      }
    },
    {
      "cell_type": "code",
      "source": [
        "python\n",
        "    x = 10\n",
        "    y = 5\n",
        "    print(x > 5 and y < 10)  # True because both conditions are true\n",
        "    print(x < 5 or y > 1)  # True because one of the conditions is true\n",
        "    print(not(x < y))  # True because x<y is false, not makes it true.\n",
        ""
      ],
      "metadata": {
        "id": "JuEKWJvL1Yez"
      },
      "execution_count": null,
      "outputs": []
    },
    {
      "cell_type": "markdown",
      "source": [
        "9.  **Convert user input to different types:**"
      ],
      "metadata": {
        "id": "8fbWmf5r1Ylk"
      }
    },
    {
      "cell_type": "code",
      "source": [
        "  python\n",
        "    user_input = input(\"Enter something: \")\n",
        "    try:\n",
        "      integer_val = int(user_input)\n",
        "      print(\"Integer:\", integer_val)\n",
        "    except:\n",
        "      print(\"can not convert to int\")\n",
        "    try:\n",
        "      float_val = float(user_input)\n",
        "      print(\"Float:\", float_val)\n",
        "    except:\n",
        "      print(\"can not convert to float\")\n",
        "    try:\n",
        "      boolean_val = bool(user_input)\n",
        "      print(\"Boolean:\", boolean_val)\n",
        "    except:\n",
        "      print(\"can not convert to boolean\")\n",
        ""
      ],
      "metadata": {
        "id": "Fnc-T-Lq1YsT"
      },
      "execution_count": null,
      "outputs": []
    },
    {
      "cell_type": "markdown",
      "source": [
        "10. **Type Casting with List Elements**"
      ],
      "metadata": {
        "id": "HaGmjQLy1Yy8"
      }
    },
    {
      "cell_type": "code",
      "source": [
        "python\n",
        "        my_list = [\"1\", \"2\", \"3\"]\n",
        "        new_list = []\n",
        "        for element in my_list:\n",
        "            new_list.append(int(element))\n",
        "        print(new_list)"
      ],
      "metadata": {
        "id": "nefd4RgO1Y5c"
      },
      "execution_count": null,
      "outputs": []
    },
    {
      "cell_type": "markdown",
      "source": [
        "11. **Check if a number is positive, negative, or zero:**"
      ],
      "metadata": {
        "id": "MPXRbOzN1Y_9"
      }
    },
    {
      "cell_type": "code",
      "source": [
        "python\n",
        "    number = int(input(\"Enter a number: \"))\n",
        "    if number > 0:\n",
        "        print(\"Positive\")\n",
        "    elif number < 0:\n",
        "        print(\"Negative\")\n",
        "    else:\n",
        "        print(\"Zero\")"
      ],
      "metadata": {
        "id": "bKV9AyKe1ZGc"
      },
      "execution_count": null,
      "outputs": []
    },
    {
      "cell_type": "markdown",
      "source": [
        "12. **Print numbers from 1 to 10 using for loop:**"
      ],
      "metadata": {
        "id": "chj2iq-72w18"
      }
    },
    {
      "cell_type": "code",
      "source": [
        "python\n",
        "    for i in range(1, 11):\n",
        "        print(i"
      ],
      "metadata": {
        "id": "KIgl_1Nt2xOM"
      },
      "execution_count": null,
      "outputs": []
    },
    {
      "cell_type": "markdown",
      "source": [
        "13. **Sum of even numbers between 1 and 50:**"
      ],
      "metadata": {
        "id": "FxmFlGIX2xZr"
      }
    },
    {
      "cell_type": "code",
      "source": [
        "python\n",
        "    sum_even = 0\n",
        "    for i in range(2, 51, 2):\n",
        "        sum_even = sum_even + i\n",
        "    print(\"Sum of even numbers:\", sum_even)"
      ],
      "metadata": {
        "id": "e7sAT3r22xh8"
      },
      "execution_count": null,
      "outputs": []
    },
    {
      "cell_type": "markdown",
      "source": [
        "14. **Reverse a String Using a While loop:**"
      ],
      "metadata": {
        "id": "8aQPSZvK2xqM"
      }
    },
    {
      "cell_type": "code",
      "source": [
        "python\n",
        "    input_string = input(\"Enter the string you want to reverse\")\n",
        "    reversed_string = \"\"\n",
        "    i = len(input_string) - 1\n",
        "    while i >= 0:\n",
        "        reversed_string += input_string[i]\n",
        "        i -= 1\n",
        "    print(\"Reversed string:\", reversed_string)"
      ],
      "metadata": {
        "id": "UoKReGMZ2xx1"
      },
      "execution_count": null,
      "outputs": []
    },
    {
      "cell_type": "markdown",
      "source": [
        "15. **Calculate factorial using a while loop:**"
      ],
      "metadata": {
        "id": "3zrYEjGT3EuE"
      }
    },
    {
      "cell_type": "code",
      "source": [
        "python\n",
        "    number = int(input(\"Enter a number for factorial: \"))\n",
        "    factorial = 1\n",
        "    i = 1\n",
        "    while i <= number:\n",
        "        factorial *= i\n",
        "        i += 1\n",
        "    print(\"Factorial is:\", factorial)"
      ],
      "metadata": {
        "id": "b5jTEb7I3E70"
      },
      "execution_count": null,
      "outputs": []
    }
  ]
}